{
 "cells": [
  {
   "cell_type": "code",
   "execution_count": 56,
   "metadata": {},
   "outputs": [],
   "source": [
    "from get_lang_data import *\n",
    "import numpy as np\n",
    "import pandas as pd\n",
    "from plotnine import *\n",
    "import matplotlib.pyplot as plt\n",
    "from run_ib_new import *\n",
    "from get_prior import *"
   ]
  },
  {
   "cell_type": "code",
   "execution_count": 17,
   "metadata": {},
   "outputs": [],
   "source": [
    "num_dists = 3\n",
    "pgs_dists = [0,1,-1]\n",
    "num_meanings = num_dists * 3\n",
    "\n",
    "mu1 = 0.1\n",
    "mu2 = 0.3\n"
   ]
  },
  {
   "cell_type": "code",
   "execution_count": 55,
   "metadata": {},
   "outputs": [],
   "source": [
    "x = RunIB(mu1, num_dists, pgs_dists)\n",
    "x_label_list = list(x.deictic_index.keys())\n",
    "y = RunIB(mu2, num_dists, pgs_dists)\n",
    "y_label_list = list(y.deictic_index.keys())\n",
    "\n",
    "\n",
    "# construct dataframe for plotting mu=0.1\n",
    "df1 = pd.DataFrame(x.get_prob_u_given_m())\n",
    "df1.index = x_label_list\n",
    "df1.columns = x_label_list\n",
    "\n",
    "df1 = df1.rename_axis('m').reset_index()\n",
    "df1 = pd.melt(df1, id_vars = 'm', value_vars = x_label_list, var_name = 'u', value_name = 'p_u_m')\n",
    "\n",
    "df1[['u_distance_level', 'u_orientation']] = df1['u'].str.split('_', expand=True)\n",
    "\n",
    "# construct dataframe for plotting mu=0.3\n",
    "df2 = pd.DataFrame(y.get_prob_u_given_m())\n",
    "df2.index = y_label_list\n",
    "df2.columns = y_label_list\n",
    "\n",
    "df2 = df2.rename_axis('m').reset_index()\n",
    "df2 = pd.melt(df2, id_vars = 'm', value_vars = y_label_list, var_name = 'u', value_name = 'p_u_m')\n",
    "\n",
    "df2[['u_distance_level', 'u_orientation']] = df2['u'].str.split('_', expand=True)\n"
   ]
  },
  {
   "cell_type": "code",
   "execution_count": 81,
   "metadata": {},
   "outputs": [
    {
     "name": "stderr",
     "output_type": "stream",
     "text": [
      "/Users/cshnican/opt/anaconda3/lib/python3.8/site-packages/plotnine/ggplot.py:719: PlotnineWarning: Saving 6.4 x 4.8 in image.\n",
      "/Users/cshnican/opt/anaconda3/lib/python3.8/site-packages/plotnine/ggplot.py:722: PlotnineWarning: Filename: figures/orig_figures/p_u_m_mu_0.1.png\n",
      "/Users/cshnican/opt/anaconda3/lib/python3.8/site-packages/plotnine/utils.py:371: FutureWarning: The frame.append method is deprecated and will be removed from pandas in a future version. Use pandas.concat instead.\n",
      "/Users/cshnican/opt/anaconda3/lib/python3.8/site-packages/plotnine/ggplot.py:719: PlotnineWarning: Saving 6.4 x 4.8 in image.\n",
      "/Users/cshnican/opt/anaconda3/lib/python3.8/site-packages/plotnine/ggplot.py:722: PlotnineWarning: Filename: figures/orig_figures/p_u_m_mu_0.3.png\n",
      "/Users/cshnican/opt/anaconda3/lib/python3.8/site-packages/plotnine/utils.py:371: FutureWarning: The frame.append method is deprecated and will be removed from pandas in a future version. Use pandas.concat instead.\n"
     ]
    }
   ],
   "source": [
    "# plot p(u|m) when mu = 0.1\n",
    "p1 = (ggplot(df1, aes(x='u_orientation', y='u_distance_level', alpha='p_u_m'))+\\\n",
    "        geom_tile(fill='#032C5E') + facet_wrap('m') +\\\n",
    "        theme_bw(15) + theme(panel_grid = element_blank()) +\\\n",
    "        ggtitle('$p(u|m)$ given $\\mu$=0.1') + xlab('Orientation') + ylab('Distance Level'))\n",
    "\n",
    "ggsave(plot=p1, filename='figures/orig_figures/p_u_m_mu_0.1.png')\n",
    "\n",
    "# plot p(u|m) when mu = 0.3\n",
    "p2 = (ggplot(df2, aes(x='u_orientation', y='u_distance_level', alpha='p_u_m'))+\\\n",
    "        geom_tile(fill='#032C5E') + facet_wrap('m') +\\\n",
    "        theme_bw(15) + theme(panel_grid = element_blank()) +\\\n",
    "        ggtitle('$p(u|m)$ given $\\mu$=0.3') + xlab('Orientation') + ylab('Distance Level'))\n",
    "\n",
    "ggsave(plot=p2, filename='figures/orig_figures/p_u_m_mu_0.3.png')"
   ]
  },
  {
   "cell_type": "code",
   "execution_count": null,
   "metadata": {},
   "outputs": [],
   "source": []
  }
 ],
 "metadata": {
  "kernelspec": {
   "display_name": "Python 3 (ipykernel)",
   "language": "python",
   "name": "python3"
  },
  "language_info": {
   "codemirror_mode": {
    "name": "ipython",
    "version": 3
   },
   "file_extension": ".py",
   "mimetype": "text/x-python",
   "name": "python",
   "nbconvert_exporter": "python",
   "pygments_lexer": "ipython3",
   "version": "3.8.5"
  }
 },
 "nbformat": 4,
 "nbformat_minor": 4
}
